{
 "metadata": {
  "language_info": {
   "codemirror_mode": {
    "name": "ipython",
    "version": 3
   },
   "file_extension": ".py",
   "mimetype": "text/x-python",
   "name": "python",
   "nbconvert_exporter": "python",
   "pygments_lexer": "ipython3",
   "version": "3.9.1-final"
  },
  "orig_nbformat": 2,
  "kernelspec": {
   "name": "python3",
   "display_name": "Python 3",
   "language": "python"
  }
 },
 "nbformat": 4,
 "nbformat_minor": 2,
 "cells": [
  {
   "cell_type": "code",
   "execution_count": 1,
   "metadata": {},
   "outputs": [
    {
     "output_type": "stream",
     "name": "stdout",
     "text": [
      "Index(['Sr No', 'Country/ Region', 'Foreign Capital to be brought in',\n       '1988-89 to 2010-2011', '2011-12', '2012-2013', '2013-2014',\n       '2014-2015', '2015-2016', '2016-2017', '2017-2018', '2018 (4 to 9)',\n       '2018-2019', '2019-2020', '2020-2021 (As of 31/12/2020)',\n       'Unnamed: 15'],\n      dtype='object')\n"
     ]
    }
   ],
   "source": [
    "import pandas as pd \n",
    "df = pd.read_excel(\"yearly_country_14.xlsx\", engine='openpyxl', skiprows=4, header=0)\n",
    "#print(df.head())\n",
    "print(df.columns)\n",
    "df.rename(columns={\n",
    "    'Country/ Region': 'Country',\n",
    "    'Foreign Capital to be brought in': 'Total Investment',\n",
    "    '1988-89 to 2010-2011': '1988-2010'\n",
    "}, inplace=True)"
   ]
  },
  {
   "cell_type": "code",
   "execution_count": 28,
   "metadata": {},
   "outputs": [
    {
     "output_type": "stream",
     "name": "stdout",
     "text": [
      "(52, 12)\n(51, 12)\n"
     ]
    }
   ],
   "source": [
    "# Tried with iloc to select needed columns by index but not worked well\n",
    "# So, change to drop by index method \n",
    "selected = df.drop(df.columns[[0,11,14,15]],axis=1)\n",
    "#print(selected.columns)\n",
    "\n",
    "'''\n",
    "last_row = selected.tail(1)\n",
    "last_row.drop(columns= ['Country'],inplace=True)\n",
    "last_row = last_row.transpose().rename(columns={51:'Values'}).sort_index(axis=1, ascending=True)\n",
    "total = last_row['Values'][1:].sum()\n",
    "#print(\"Total Sum: \" ,total)\n",
    "#print(last_row)\n",
    "#print(last_row.dtypes)\n",
    "'''\n",
    "print(selected.shape)\n",
    "## after separate selecting the last_row , drop it from selected dataframe because it's total numbers\n",
    "selected.drop(selected.tail(1).index, inplace=True)\n",
    "print(selected.shape)\n"
   ]
  },
  {
   "cell_type": "code",
   "execution_count": 29,
   "metadata": {},
   "outputs": [
    {
     "output_type": "stream",
     "name": "stdout",
     "text": [
      "             Country  Total Investment  1988-2010  2011-12  2012-2013  \\\n0          Australia           145.799     82.080      NaN        NaN   \n1            Austria            74.365     72.500      NaN        NaN   \n2         Bangladesh             7.890      2.957      NaN        NaN   \n3  Brunei Darussalam           126.754      2.040      NaN      1.000   \n4             Canada           203.594     39.781      NaN      2.102   \n\n   2013-2014  2014-2015  2015-2016  2016-2017  2017-2018  2018-2019  \\\n0     17.696        NaN     29.733     16.290        NaN        NaN   \n1        NaN        NaN        NaN        NaN        NaN        NaN   \n2        NaN        NaN      2.356      1.077      1.500        NaN   \n3      2.273     43.873     26.483     18.026      8.074     10.234   \n4        NaN    153.924      1.277      5.150      1.360        NaN   \n\n   2019-2020  2011-2020  \n0        NaN     63.719  \n1        NaN      0.000  \n2        NaN      4.933  \n3     12.639    122.602  \n4        NaN    163.813  \n"
     ]
    }
   ],
   "source": [
    "# Create sum column for 2011-2020\n",
    "selected['2011-2020']=selected.iloc[:,-9:].sum(axis=1)\n",
    "print(selected.head())"
   ]
  },
  {
   "cell_type": "code",
   "execution_count": 31,
   "metadata": {},
   "outputs": [
    {
     "output_type": "execute_result",
     "data": {
      "text/plain": [
       "            Country  Total Investment  1988-2010   2011-12  2012-2013  \\\n",
       "22        Singapore         24111.649   1804.013       NaN    418.233   \n",
       "5             China         21527.225   9596.791  4345.728    231.773   \n",
       "25         Thailand         11430.741   9568.093       NaN      1.300   \n",
       "10   Hong Kong(SAR)          9756.707   6308.495       NaN     84.839   \n",
       "28              U.K          4966.594   2659.954    99.831    232.700   \n",
       "20           R.O.K.          4061.103   2916.913    25.572     37.942   \n",
       "30         Viet Nam          2224.226     23.649    18.147    329.390   \n",
       "14            Japan          1975.619    211.902     4.318     54.063   \n",
       "16         Malaysia          1969.889    975.097    51.864      4.324   \n",
       "26  The Netherlands          1572.121    238.835       NaN     10.301   \n",
       "\n",
       "    2013-2014  2014-2015  2015-2016  2016-2017  2017-2018  2018-2019  \\\n",
       "22   2300.121   4297.185   4251.223   3820.764   2163.963   2409.567   \n",
       "5      56.160    511.415   3323.853    482.591   1395.219    634.577   \n",
       "25    529.072    165.679    236.174    423.058    123.858    221.432   \n",
       "10    104.004    625.556    225.165    213.700    251.982    456.372   \n",
       "28    156.864    850.759     75.310     54.320    211.179     23.337   \n",
       "20     81.205    299.586    128.091     66.423    253.904     89.383   \n",
       "30    142.000    175.400      4.676   1386.200     20.806     14.580   \n",
       "14     55.711     85.740    219.793     60.423    384.119     42.777   \n",
       "16    616.108      6.724    257.221     21.390     21.877      1.779   \n",
       "26        NaN    302.405    438.025      5.000    533.923     32.398   \n",
       "\n",
       "    2019-2020  2011-2020  \n",
       "22   1859.209  21520.265  \n",
       "5     553.310  11534.626  \n",
       "25     79.203   1779.776  \n",
       "10   1422.336   3383.954  \n",
       "28    425.157   2129.457  \n",
       "20     94.198   1076.304  \n",
       "30     57.823   2149.022  \n",
       "14    768.466   1675.410  \n",
       "16      5.252    986.539  \n",
       "26     11.234   1333.286  "
      ],
      "text/html": "<div>\n<style scoped>\n    .dataframe tbody tr th:only-of-type {\n        vertical-align: middle;\n    }\n\n    .dataframe tbody tr th {\n        vertical-align: top;\n    }\n\n    .dataframe thead th {\n        text-align: right;\n    }\n</style>\n<table border=\"1\" class=\"dataframe\">\n  <thead>\n    <tr style=\"text-align: right;\">\n      <th></th>\n      <th>Country</th>\n      <th>Total Investment</th>\n      <th>1988-2010</th>\n      <th>2011-12</th>\n      <th>2012-2013</th>\n      <th>2013-2014</th>\n      <th>2014-2015</th>\n      <th>2015-2016</th>\n      <th>2016-2017</th>\n      <th>2017-2018</th>\n      <th>2018-2019</th>\n      <th>2019-2020</th>\n      <th>2011-2020</th>\n    </tr>\n  </thead>\n  <tbody>\n    <tr>\n      <th>22</th>\n      <td>Singapore</td>\n      <td>24111.649</td>\n      <td>1804.013</td>\n      <td>NaN</td>\n      <td>418.233</td>\n      <td>2300.121</td>\n      <td>4297.185</td>\n      <td>4251.223</td>\n      <td>3820.764</td>\n      <td>2163.963</td>\n      <td>2409.567</td>\n      <td>1859.209</td>\n      <td>21520.265</td>\n    </tr>\n    <tr>\n      <th>5</th>\n      <td>China</td>\n      <td>21527.225</td>\n      <td>9596.791</td>\n      <td>4345.728</td>\n      <td>231.773</td>\n      <td>56.160</td>\n      <td>511.415</td>\n      <td>3323.853</td>\n      <td>482.591</td>\n      <td>1395.219</td>\n      <td>634.577</td>\n      <td>553.310</td>\n      <td>11534.626</td>\n    </tr>\n    <tr>\n      <th>25</th>\n      <td>Thailand</td>\n      <td>11430.741</td>\n      <td>9568.093</td>\n      <td>NaN</td>\n      <td>1.300</td>\n      <td>529.072</td>\n      <td>165.679</td>\n      <td>236.174</td>\n      <td>423.058</td>\n      <td>123.858</td>\n      <td>221.432</td>\n      <td>79.203</td>\n      <td>1779.776</td>\n    </tr>\n    <tr>\n      <th>10</th>\n      <td>Hong Kong(SAR)</td>\n      <td>9756.707</td>\n      <td>6308.495</td>\n      <td>NaN</td>\n      <td>84.839</td>\n      <td>104.004</td>\n      <td>625.556</td>\n      <td>225.165</td>\n      <td>213.700</td>\n      <td>251.982</td>\n      <td>456.372</td>\n      <td>1422.336</td>\n      <td>3383.954</td>\n    </tr>\n    <tr>\n      <th>28</th>\n      <td>U.K</td>\n      <td>4966.594</td>\n      <td>2659.954</td>\n      <td>99.831</td>\n      <td>232.700</td>\n      <td>156.864</td>\n      <td>850.759</td>\n      <td>75.310</td>\n      <td>54.320</td>\n      <td>211.179</td>\n      <td>23.337</td>\n      <td>425.157</td>\n      <td>2129.457</td>\n    </tr>\n    <tr>\n      <th>20</th>\n      <td>R.O.K.</td>\n      <td>4061.103</td>\n      <td>2916.913</td>\n      <td>25.572</td>\n      <td>37.942</td>\n      <td>81.205</td>\n      <td>299.586</td>\n      <td>128.091</td>\n      <td>66.423</td>\n      <td>253.904</td>\n      <td>89.383</td>\n      <td>94.198</td>\n      <td>1076.304</td>\n    </tr>\n    <tr>\n      <th>30</th>\n      <td>Viet Nam</td>\n      <td>2224.226</td>\n      <td>23.649</td>\n      <td>18.147</td>\n      <td>329.390</td>\n      <td>142.000</td>\n      <td>175.400</td>\n      <td>4.676</td>\n      <td>1386.200</td>\n      <td>20.806</td>\n      <td>14.580</td>\n      <td>57.823</td>\n      <td>2149.022</td>\n    </tr>\n    <tr>\n      <th>14</th>\n      <td>Japan</td>\n      <td>1975.619</td>\n      <td>211.902</td>\n      <td>4.318</td>\n      <td>54.063</td>\n      <td>55.711</td>\n      <td>85.740</td>\n      <td>219.793</td>\n      <td>60.423</td>\n      <td>384.119</td>\n      <td>42.777</td>\n      <td>768.466</td>\n      <td>1675.410</td>\n    </tr>\n    <tr>\n      <th>16</th>\n      <td>Malaysia</td>\n      <td>1969.889</td>\n      <td>975.097</td>\n      <td>51.864</td>\n      <td>4.324</td>\n      <td>616.108</td>\n      <td>6.724</td>\n      <td>257.221</td>\n      <td>21.390</td>\n      <td>21.877</td>\n      <td>1.779</td>\n      <td>5.252</td>\n      <td>986.539</td>\n    </tr>\n    <tr>\n      <th>26</th>\n      <td>The Netherlands</td>\n      <td>1572.121</td>\n      <td>238.835</td>\n      <td>NaN</td>\n      <td>10.301</td>\n      <td>NaN</td>\n      <td>302.405</td>\n      <td>438.025</td>\n      <td>5.000</td>\n      <td>533.923</td>\n      <td>32.398</td>\n      <td>11.234</td>\n      <td>1333.286</td>\n    </tr>\n  </tbody>\n</table>\n</div>"
     },
     "metadata": {},
     "execution_count": 31
    }
   ],
   "source": [
    "selected.sort_values(by=['Total Investment'], ascending=False).head(10)"
   ]
  },
  {
   "cell_type": "code",
   "execution_count": 32,
   "metadata": {},
   "outputs": [
    {
     "output_type": "execute_result",
     "data": {
      "text/plain": [
       "           Country  Total Investment  1988-2010   2011-12  2012-2013  \\\n",
       "5            China         21527.225   9596.791  4345.728    231.773   \n",
       "25        Thailand         11430.741   9568.093       NaN      1.300   \n",
       "10  Hong Kong(SAR)          9756.707   6308.495       NaN     84.839   \n",
       "20          R.O.K.          4061.103   2916.913    25.572     37.942   \n",
       "28             U.K          4966.594   2659.954    99.831    232.700   \n",
       "22       Singapore         24111.649   1804.013       NaN    418.233   \n",
       "16        Malaysia          1969.889    975.097    51.864      4.324   \n",
       "8           France           555.860    469.000       NaN        NaN   \n",
       "29           U.S.A           574.716    243.565       NaN        NaN   \n",
       "12       Indonesia           283.057    241.497       NaN        NaN   \n",
       "\n",
       "    2013-2014  2014-2015  2015-2016  2016-2017  2017-2018  2018-2019  \\\n",
       "5      56.160    511.415   3323.853    482.591   1395.219    634.577   \n",
       "25    529.072    165.679    236.174    423.058    123.858    221.432   \n",
       "10    104.004    625.556    225.165    213.700    251.982    456.372   \n",
       "20     81.205    299.586    128.091     66.423    253.904     89.383   \n",
       "28    156.864    850.759     75.310     54.320    211.179     23.337   \n",
       "22   2300.121   4297.185   4251.223   3820.764   2163.963   2409.567   \n",
       "16    616.108      6.724    257.221     21.390     21.877      1.779   \n",
       "8       5.360     67.250        NaN      0.790      7.340      0.490   \n",
       "29        NaN      2.041      2.610        NaN    128.680     98.340   \n",
       "12        NaN        NaN     13.190      9.034      9.859        NaN   \n",
       "\n",
       "    2019-2020  2011-2020  \n",
       "5     553.310  11534.626  \n",
       "25     79.203   1779.776  \n",
       "10   1422.336   3383.954  \n",
       "20     94.198   1076.304  \n",
       "28    425.157   2129.457  \n",
       "22   1859.209  21520.265  \n",
       "16      5.252    986.539  \n",
       "8       5.630     86.860  \n",
       "29     43.580    275.251  \n",
       "12      8.527     40.610  "
      ],
      "text/html": "<div>\n<style scoped>\n    .dataframe tbody tr th:only-of-type {\n        vertical-align: middle;\n    }\n\n    .dataframe tbody tr th {\n        vertical-align: top;\n    }\n\n    .dataframe thead th {\n        text-align: right;\n    }\n</style>\n<table border=\"1\" class=\"dataframe\">\n  <thead>\n    <tr style=\"text-align: right;\">\n      <th></th>\n      <th>Country</th>\n      <th>Total Investment</th>\n      <th>1988-2010</th>\n      <th>2011-12</th>\n      <th>2012-2013</th>\n      <th>2013-2014</th>\n      <th>2014-2015</th>\n      <th>2015-2016</th>\n      <th>2016-2017</th>\n      <th>2017-2018</th>\n      <th>2018-2019</th>\n      <th>2019-2020</th>\n      <th>2011-2020</th>\n    </tr>\n  </thead>\n  <tbody>\n    <tr>\n      <th>5</th>\n      <td>China</td>\n      <td>21527.225</td>\n      <td>9596.791</td>\n      <td>4345.728</td>\n      <td>231.773</td>\n      <td>56.160</td>\n      <td>511.415</td>\n      <td>3323.853</td>\n      <td>482.591</td>\n      <td>1395.219</td>\n      <td>634.577</td>\n      <td>553.310</td>\n      <td>11534.626</td>\n    </tr>\n    <tr>\n      <th>25</th>\n      <td>Thailand</td>\n      <td>11430.741</td>\n      <td>9568.093</td>\n      <td>NaN</td>\n      <td>1.300</td>\n      <td>529.072</td>\n      <td>165.679</td>\n      <td>236.174</td>\n      <td>423.058</td>\n      <td>123.858</td>\n      <td>221.432</td>\n      <td>79.203</td>\n      <td>1779.776</td>\n    </tr>\n    <tr>\n      <th>10</th>\n      <td>Hong Kong(SAR)</td>\n      <td>9756.707</td>\n      <td>6308.495</td>\n      <td>NaN</td>\n      <td>84.839</td>\n      <td>104.004</td>\n      <td>625.556</td>\n      <td>225.165</td>\n      <td>213.700</td>\n      <td>251.982</td>\n      <td>456.372</td>\n      <td>1422.336</td>\n      <td>3383.954</td>\n    </tr>\n    <tr>\n      <th>20</th>\n      <td>R.O.K.</td>\n      <td>4061.103</td>\n      <td>2916.913</td>\n      <td>25.572</td>\n      <td>37.942</td>\n      <td>81.205</td>\n      <td>299.586</td>\n      <td>128.091</td>\n      <td>66.423</td>\n      <td>253.904</td>\n      <td>89.383</td>\n      <td>94.198</td>\n      <td>1076.304</td>\n    </tr>\n    <tr>\n      <th>28</th>\n      <td>U.K</td>\n      <td>4966.594</td>\n      <td>2659.954</td>\n      <td>99.831</td>\n      <td>232.700</td>\n      <td>156.864</td>\n      <td>850.759</td>\n      <td>75.310</td>\n      <td>54.320</td>\n      <td>211.179</td>\n      <td>23.337</td>\n      <td>425.157</td>\n      <td>2129.457</td>\n    </tr>\n    <tr>\n      <th>22</th>\n      <td>Singapore</td>\n      <td>24111.649</td>\n      <td>1804.013</td>\n      <td>NaN</td>\n      <td>418.233</td>\n      <td>2300.121</td>\n      <td>4297.185</td>\n      <td>4251.223</td>\n      <td>3820.764</td>\n      <td>2163.963</td>\n      <td>2409.567</td>\n      <td>1859.209</td>\n      <td>21520.265</td>\n    </tr>\n    <tr>\n      <th>16</th>\n      <td>Malaysia</td>\n      <td>1969.889</td>\n      <td>975.097</td>\n      <td>51.864</td>\n      <td>4.324</td>\n      <td>616.108</td>\n      <td>6.724</td>\n      <td>257.221</td>\n      <td>21.390</td>\n      <td>21.877</td>\n      <td>1.779</td>\n      <td>5.252</td>\n      <td>986.539</td>\n    </tr>\n    <tr>\n      <th>8</th>\n      <td>France</td>\n      <td>555.860</td>\n      <td>469.000</td>\n      <td>NaN</td>\n      <td>NaN</td>\n      <td>5.360</td>\n      <td>67.250</td>\n      <td>NaN</td>\n      <td>0.790</td>\n      <td>7.340</td>\n      <td>0.490</td>\n      <td>5.630</td>\n      <td>86.860</td>\n    </tr>\n    <tr>\n      <th>29</th>\n      <td>U.S.A</td>\n      <td>574.716</td>\n      <td>243.565</td>\n      <td>NaN</td>\n      <td>NaN</td>\n      <td>NaN</td>\n      <td>2.041</td>\n      <td>2.610</td>\n      <td>NaN</td>\n      <td>128.680</td>\n      <td>98.340</td>\n      <td>43.580</td>\n      <td>275.251</td>\n    </tr>\n    <tr>\n      <th>12</th>\n      <td>Indonesia</td>\n      <td>283.057</td>\n      <td>241.497</td>\n      <td>NaN</td>\n      <td>NaN</td>\n      <td>NaN</td>\n      <td>NaN</td>\n      <td>13.190</td>\n      <td>9.034</td>\n      <td>9.859</td>\n      <td>NaN</td>\n      <td>8.527</td>\n      <td>40.610</td>\n    </tr>\n  </tbody>\n</table>\n</div>"
     },
     "metadata": {},
     "execution_count": 32
    }
   ],
   "source": [
    "selected.sort_values(by=['1988-2010'], ascending=False).head(10)"
   ]
  },
  {
   "cell_type": "code",
   "execution_count": 33,
   "metadata": {},
   "outputs": [
    {
     "output_type": "execute_result",
     "data": {
      "text/plain": [
       "            Country  Total Investment  1988-2010   2011-12  2012-2013  \\\n",
       "22        Singapore         24111.649   1804.013       NaN    418.233   \n",
       "5             China         21527.225   9596.791  4345.728    231.773   \n",
       "10   Hong Kong(SAR)          9756.707   6308.495       NaN     84.839   \n",
       "30         Viet Nam          2224.226     23.649    18.147    329.390   \n",
       "28              U.K          4966.594   2659.954    99.831    232.700   \n",
       "25         Thailand         11430.741   9568.093       NaN      1.300   \n",
       "14            Japan          1975.619    211.902     4.318     54.063   \n",
       "26  The Netherlands          1572.121    238.835       NaN     10.301   \n",
       "20           R.O.K.          4061.103   2916.913    25.572     37.942   \n",
       "16         Malaysia          1969.889    975.097    51.864      4.324   \n",
       "\n",
       "    2013-2014  2014-2015  2015-2016  2016-2017  2017-2018  2018-2019  \\\n",
       "22   2300.121   4297.185   4251.223   3820.764   2163.963   2409.567   \n",
       "5      56.160    511.415   3323.853    482.591   1395.219    634.577   \n",
       "10    104.004    625.556    225.165    213.700    251.982    456.372   \n",
       "30    142.000    175.400      4.676   1386.200     20.806     14.580   \n",
       "28    156.864    850.759     75.310     54.320    211.179     23.337   \n",
       "25    529.072    165.679    236.174    423.058    123.858    221.432   \n",
       "14     55.711     85.740    219.793     60.423    384.119     42.777   \n",
       "26        NaN    302.405    438.025      5.000    533.923     32.398   \n",
       "20     81.205    299.586    128.091     66.423    253.904     89.383   \n",
       "16    616.108      6.724    257.221     21.390     21.877      1.779   \n",
       "\n",
       "    2019-2020  2011-2020  \n",
       "22   1859.209  21520.265  \n",
       "5     553.310  11534.626  \n",
       "10   1422.336   3383.954  \n",
       "30     57.823   2149.022  \n",
       "28    425.157   2129.457  \n",
       "25     79.203   1779.776  \n",
       "14    768.466   1675.410  \n",
       "26     11.234   1333.286  \n",
       "20     94.198   1076.304  \n",
       "16      5.252    986.539  "
      ],
      "text/html": "<div>\n<style scoped>\n    .dataframe tbody tr th:only-of-type {\n        vertical-align: middle;\n    }\n\n    .dataframe tbody tr th {\n        vertical-align: top;\n    }\n\n    .dataframe thead th {\n        text-align: right;\n    }\n</style>\n<table border=\"1\" class=\"dataframe\">\n  <thead>\n    <tr style=\"text-align: right;\">\n      <th></th>\n      <th>Country</th>\n      <th>Total Investment</th>\n      <th>1988-2010</th>\n      <th>2011-12</th>\n      <th>2012-2013</th>\n      <th>2013-2014</th>\n      <th>2014-2015</th>\n      <th>2015-2016</th>\n      <th>2016-2017</th>\n      <th>2017-2018</th>\n      <th>2018-2019</th>\n      <th>2019-2020</th>\n      <th>2011-2020</th>\n    </tr>\n  </thead>\n  <tbody>\n    <tr>\n      <th>22</th>\n      <td>Singapore</td>\n      <td>24111.649</td>\n      <td>1804.013</td>\n      <td>NaN</td>\n      <td>418.233</td>\n      <td>2300.121</td>\n      <td>4297.185</td>\n      <td>4251.223</td>\n      <td>3820.764</td>\n      <td>2163.963</td>\n      <td>2409.567</td>\n      <td>1859.209</td>\n      <td>21520.265</td>\n    </tr>\n    <tr>\n      <th>5</th>\n      <td>China</td>\n      <td>21527.225</td>\n      <td>9596.791</td>\n      <td>4345.728</td>\n      <td>231.773</td>\n      <td>56.160</td>\n      <td>511.415</td>\n      <td>3323.853</td>\n      <td>482.591</td>\n      <td>1395.219</td>\n      <td>634.577</td>\n      <td>553.310</td>\n      <td>11534.626</td>\n    </tr>\n    <tr>\n      <th>10</th>\n      <td>Hong Kong(SAR)</td>\n      <td>9756.707</td>\n      <td>6308.495</td>\n      <td>NaN</td>\n      <td>84.839</td>\n      <td>104.004</td>\n      <td>625.556</td>\n      <td>225.165</td>\n      <td>213.700</td>\n      <td>251.982</td>\n      <td>456.372</td>\n      <td>1422.336</td>\n      <td>3383.954</td>\n    </tr>\n    <tr>\n      <th>30</th>\n      <td>Viet Nam</td>\n      <td>2224.226</td>\n      <td>23.649</td>\n      <td>18.147</td>\n      <td>329.390</td>\n      <td>142.000</td>\n      <td>175.400</td>\n      <td>4.676</td>\n      <td>1386.200</td>\n      <td>20.806</td>\n      <td>14.580</td>\n      <td>57.823</td>\n      <td>2149.022</td>\n    </tr>\n    <tr>\n      <th>28</th>\n      <td>U.K</td>\n      <td>4966.594</td>\n      <td>2659.954</td>\n      <td>99.831</td>\n      <td>232.700</td>\n      <td>156.864</td>\n      <td>850.759</td>\n      <td>75.310</td>\n      <td>54.320</td>\n      <td>211.179</td>\n      <td>23.337</td>\n      <td>425.157</td>\n      <td>2129.457</td>\n    </tr>\n    <tr>\n      <th>25</th>\n      <td>Thailand</td>\n      <td>11430.741</td>\n      <td>9568.093</td>\n      <td>NaN</td>\n      <td>1.300</td>\n      <td>529.072</td>\n      <td>165.679</td>\n      <td>236.174</td>\n      <td>423.058</td>\n      <td>123.858</td>\n      <td>221.432</td>\n      <td>79.203</td>\n      <td>1779.776</td>\n    </tr>\n    <tr>\n      <th>14</th>\n      <td>Japan</td>\n      <td>1975.619</td>\n      <td>211.902</td>\n      <td>4.318</td>\n      <td>54.063</td>\n      <td>55.711</td>\n      <td>85.740</td>\n      <td>219.793</td>\n      <td>60.423</td>\n      <td>384.119</td>\n      <td>42.777</td>\n      <td>768.466</td>\n      <td>1675.410</td>\n    </tr>\n    <tr>\n      <th>26</th>\n      <td>The Netherlands</td>\n      <td>1572.121</td>\n      <td>238.835</td>\n      <td>NaN</td>\n      <td>10.301</td>\n      <td>NaN</td>\n      <td>302.405</td>\n      <td>438.025</td>\n      <td>5.000</td>\n      <td>533.923</td>\n      <td>32.398</td>\n      <td>11.234</td>\n      <td>1333.286</td>\n    </tr>\n    <tr>\n      <th>20</th>\n      <td>R.O.K.</td>\n      <td>4061.103</td>\n      <td>2916.913</td>\n      <td>25.572</td>\n      <td>37.942</td>\n      <td>81.205</td>\n      <td>299.586</td>\n      <td>128.091</td>\n      <td>66.423</td>\n      <td>253.904</td>\n      <td>89.383</td>\n      <td>94.198</td>\n      <td>1076.304</td>\n    </tr>\n    <tr>\n      <th>16</th>\n      <td>Malaysia</td>\n      <td>1969.889</td>\n      <td>975.097</td>\n      <td>51.864</td>\n      <td>4.324</td>\n      <td>616.108</td>\n      <td>6.724</td>\n      <td>257.221</td>\n      <td>21.390</td>\n      <td>21.877</td>\n      <td>1.779</td>\n      <td>5.252</td>\n      <td>986.539</td>\n    </tr>\n  </tbody>\n</table>\n</div>"
     },
     "metadata": {},
     "execution_count": 33
    }
   ],
   "source": [
    "selected.sort_values(by=['2011-2020'], ascending=False).head(10)"
   ]
  },
  {
   "cell_type": "code",
   "execution_count": null,
   "metadata": {},
   "outputs": [],
   "source": []
  }
 ]
}