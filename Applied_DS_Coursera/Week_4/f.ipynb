{
 "metadata": {
  "language_info": {
   "codemirror_mode": {
    "name": "ipython",
    "version": 3
   },
   "file_extension": ".py",
   "mimetype": "text/x-python",
   "name": "python",
   "nbconvert_exporter": "python",
   "pygments_lexer": "ipython3",
   "version": "3.9.1-final"
  },
  "orig_nbformat": 2,
  "kernelspec": {
   "name": "python3",
   "display_name": "Python 3",
   "language": "python"
  }
 },
 "nbformat": 4,
 "nbformat_minor": 2,
 "cells": [
  {
   "source": [
    "### Ref - [Link](https://pbpython.com/pandas_transform.html)"
   ],
   "cell_type": "markdown",
   "metadata": {}
  },
  {
   "cell_type": "code",
   "execution_count": 3,
   "metadata": {},
   "outputs": [],
   "source": [
    "import pandas as pd \n",
    "df = pd.read_excel(\"sales_transactions.xlsx\", engine='openpyxl')\n",
    "#print(df.head())\n",
    "\n",
    "#print(df.groupby('order')['ext price'].sum())"
   ]
  },
  {
   "source": [
    "## Normal Groupby\n",
    "<img src=\"https://pbpython.com/images/groupby-example.png\" style=\"width:800px;height:500px\">"
   ],
   "cell_type": "markdown",
   "metadata": {}
  },
  {
   "cell_type": "code",
   "execution_count": 4,
   "metadata": {},
   "outputs": [
    {
     "output_type": "execute_result",
     "data": {
      "text/plain": [
       "   account           name  order       sku  quantity  unit price  ext price  \\\n",
       "0   383080       Will LLC  10001  B1-20000         7       33.69     235.83   \n",
       "1   383080       Will LLC  10001  S1-27722        11       21.12     232.32   \n",
       "2   383080       Will LLC  10001  B1-86481         3       35.99     107.97   \n",
       "3   412290  Jerde-Hilpert  10005  S1-06532        48       55.82    2679.36   \n",
       "4   412290  Jerde-Hilpert  10005  S1-82801        21       13.62     286.02   \n",
       "\n",
       "   Order_Total  Percent_of_Order  \n",
       "0       576.12          0.409342  \n",
       "1       576.12          0.403249  \n",
       "2       576.12          0.187409  \n",
       "3      8185.49          0.327330  \n",
       "4      8185.49          0.034942  "
      ],
      "text/html": "<div>\n<style scoped>\n    .dataframe tbody tr th:only-of-type {\n        vertical-align: middle;\n    }\n\n    .dataframe tbody tr th {\n        vertical-align: top;\n    }\n\n    .dataframe thead th {\n        text-align: right;\n    }\n</style>\n<table border=\"1\" class=\"dataframe\">\n  <thead>\n    <tr style=\"text-align: right;\">\n      <th></th>\n      <th>account</th>\n      <th>name</th>\n      <th>order</th>\n      <th>sku</th>\n      <th>quantity</th>\n      <th>unit price</th>\n      <th>ext price</th>\n      <th>Order_Total</th>\n      <th>Percent_of_Order</th>\n    </tr>\n  </thead>\n  <tbody>\n    <tr>\n      <th>0</th>\n      <td>383080</td>\n      <td>Will LLC</td>\n      <td>10001</td>\n      <td>B1-20000</td>\n      <td>7</td>\n      <td>33.69</td>\n      <td>235.83</td>\n      <td>576.12</td>\n      <td>0.409342</td>\n    </tr>\n    <tr>\n      <th>1</th>\n      <td>383080</td>\n      <td>Will LLC</td>\n      <td>10001</td>\n      <td>S1-27722</td>\n      <td>11</td>\n      <td>21.12</td>\n      <td>232.32</td>\n      <td>576.12</td>\n      <td>0.403249</td>\n    </tr>\n    <tr>\n      <th>2</th>\n      <td>383080</td>\n      <td>Will LLC</td>\n      <td>10001</td>\n      <td>B1-86481</td>\n      <td>3</td>\n      <td>35.99</td>\n      <td>107.97</td>\n      <td>576.12</td>\n      <td>0.187409</td>\n    </tr>\n    <tr>\n      <th>3</th>\n      <td>412290</td>\n      <td>Jerde-Hilpert</td>\n      <td>10005</td>\n      <td>S1-06532</td>\n      <td>48</td>\n      <td>55.82</td>\n      <td>2679.36</td>\n      <td>8185.49</td>\n      <td>0.327330</td>\n    </tr>\n    <tr>\n      <th>4</th>\n      <td>412290</td>\n      <td>Jerde-Hilpert</td>\n      <td>10005</td>\n      <td>S1-82801</td>\n      <td>21</td>\n      <td>13.62</td>\n      <td>286.02</td>\n      <td>8185.49</td>\n      <td>0.034942</td>\n    </tr>\n  </tbody>\n</table>\n</div>"
     },
     "metadata": {},
     "execution_count": 4
    }
   ],
   "source": [
    "## First Approach - Merging \n",
    "order_total = df.groupby('order')['ext price'].sum().rename(\"Order_Total\").reset_index()\n",
    "#print(order_total)\n",
    "df_1 = df.merge(order_total)\n",
    "df_1['Percent_of_Order'] = df_1['ext price'] / df_1['Order_Total']\n",
    "df_1.head()"
   ]
  },
  {
   "source": [
    "## Groupby - Transform  \n",
    "<img src=\"https://pbpython.com/images/transform-example.png\" style=\"width:800px;height:500px\">\n"
   ],
   "cell_type": "markdown",
   "metadata": {}
  },
  {
   "cell_type": "code",
   "execution_count": 6,
   "metadata": {},
   "outputs": [
    {
     "output_type": "execute_result",
     "data": {
      "text/plain": [
       "   account           name  order       sku  quantity  unit price  ext price  \\\n",
       "0   383080       Will LLC  10001  B1-20000         7       33.69     235.83   \n",
       "1   383080       Will LLC  10001  S1-27722        11       21.12     232.32   \n",
       "2   383080       Will LLC  10001  B1-86481         3       35.99     107.97   \n",
       "3   412290  Jerde-Hilpert  10005  S1-06532        48       55.82    2679.36   \n",
       "4   412290  Jerde-Hilpert  10005  S1-82801        21       13.62     286.02   \n",
       "\n",
       "   total_order   percent  \n",
       "0       576.12  0.409342  \n",
       "1       576.12  0.403249  \n",
       "2       576.12  0.187409  \n",
       "3      8185.49  0.327330  \n",
       "4      8185.49  0.034942  "
      ],
      "text/html": "<div>\n<style scoped>\n    .dataframe tbody tr th:only-of-type {\n        vertical-align: middle;\n    }\n\n    .dataframe tbody tr th {\n        vertical-align: top;\n    }\n\n    .dataframe thead th {\n        text-align: right;\n    }\n</style>\n<table border=\"1\" class=\"dataframe\">\n  <thead>\n    <tr style=\"text-align: right;\">\n      <th></th>\n      <th>account</th>\n      <th>name</th>\n      <th>order</th>\n      <th>sku</th>\n      <th>quantity</th>\n      <th>unit price</th>\n      <th>ext price</th>\n      <th>total_order</th>\n      <th>percent</th>\n    </tr>\n  </thead>\n  <tbody>\n    <tr>\n      <th>0</th>\n      <td>383080</td>\n      <td>Will LLC</td>\n      <td>10001</td>\n      <td>B1-20000</td>\n      <td>7</td>\n      <td>33.69</td>\n      <td>235.83</td>\n      <td>576.12</td>\n      <td>0.409342</td>\n    </tr>\n    <tr>\n      <th>1</th>\n      <td>383080</td>\n      <td>Will LLC</td>\n      <td>10001</td>\n      <td>S1-27722</td>\n      <td>11</td>\n      <td>21.12</td>\n      <td>232.32</td>\n      <td>576.12</td>\n      <td>0.403249</td>\n    </tr>\n    <tr>\n      <th>2</th>\n      <td>383080</td>\n      <td>Will LLC</td>\n      <td>10001</td>\n      <td>B1-86481</td>\n      <td>3</td>\n      <td>35.99</td>\n      <td>107.97</td>\n      <td>576.12</td>\n      <td>0.187409</td>\n    </tr>\n    <tr>\n      <th>3</th>\n      <td>412290</td>\n      <td>Jerde-Hilpert</td>\n      <td>10005</td>\n      <td>S1-06532</td>\n      <td>48</td>\n      <td>55.82</td>\n      <td>2679.36</td>\n      <td>8185.49</td>\n      <td>0.327330</td>\n    </tr>\n    <tr>\n      <th>4</th>\n      <td>412290</td>\n      <td>Jerde-Hilpert</td>\n      <td>10005</td>\n      <td>S1-82801</td>\n      <td>21</td>\n      <td>13.62</td>\n      <td>286.02</td>\n      <td>8185.49</td>\n      <td>0.034942</td>\n    </tr>\n  </tbody>\n</table>\n</div>"
     },
     "metadata": {},
     "execution_count": 6
    }
   ],
   "source": [
    "## Second Approach - Transform \n",
    "df['total_order'] = df.groupby('order')['ext price'].transform('sum')\n",
    "df['percent'] = df['ext price'] / df['total_order']\n",
    "df.head()"
   ]
  },
  {
   "cell_type": "code",
   "execution_count": null,
   "metadata": {},
   "outputs": [],
   "source": []
  }
 ]
}