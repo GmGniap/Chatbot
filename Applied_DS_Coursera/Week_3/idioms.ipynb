{
 "metadata": {
  "language_info": {
   "codemirror_mode": {
    "name": "ipython",
    "version": 3
   },
   "file_extension": ".py",
   "mimetype": "text/x-python",
   "name": "python",
   "nbconvert_exporter": "python",
   "pygments_lexer": "ipython3",
   "version": "3.9.1-final"
  },
  "orig_nbformat": 2,
  "kernelspec": {
   "name": "python3",
   "display_name": "Python 3",
   "language": "python"
  }
 },
 "nbformat": 4,
 "nbformat_minor": 2,
 "cells": [
  {
   "cell_type": "code",
   "execution_count": 2,
   "metadata": {},
   "outputs": [
    {
     "output_type": "execute_result",
     "data": {
      "text/plain": [
       "   SUMLEV  REGION  DIVISION  STATE  COUNTY   STNAME         CTYNAME  \\\n",
       "0      40       3         6      1       0  Alabama         Alabama   \n",
       "1      50       3         6      1       1  Alabama  Autauga County   \n",
       "2      50       3         6      1       3  Alabama  Baldwin County   \n",
       "3      50       3         6      1       5  Alabama  Barbour County   \n",
       "4      50       3         6      1       7  Alabama     Bibb County   \n",
       "\n",
       "   CENSUS2010POP  ESTIMATESBASE2010  POPESTIMATE2010  ...  RDOMESTICMIG2011  \\\n",
       "0        4779736            4780127          4785161  ...          0.002295   \n",
       "1          54571              54571            54660  ...          7.242091   \n",
       "2         182265             182265           183193  ...         14.832960   \n",
       "3          27457              27457            27341  ...         -4.728132   \n",
       "4          22915              22919            22861  ...         -5.527043   \n",
       "\n",
       "   RDOMESTICMIG2012  RDOMESTICMIG2013  RDOMESTICMIG2014  RDOMESTICMIG2015  \\\n",
       "0         -0.193196          0.381066          0.582002         -0.467369   \n",
       "1         -2.915927         -3.012349          2.265971         -2.530799   \n",
       "2         17.647293         21.845705         19.243287         17.197872   \n",
       "3         -2.500690         -7.056824         -3.904217        -10.543299   \n",
       "4         -5.068871         -6.201001         -0.177537          0.177258   \n",
       "\n",
       "   RNETMIG2011  RNETMIG2012  RNETMIG2013  RNETMIG2014  RNETMIG2015  \n",
       "0     1.030015     0.826644     1.383282     1.724718     0.712594  \n",
       "1     7.606016    -2.626146    -2.722002     2.592270    -2.187333  \n",
       "2    15.844176    18.559627    22.727626    20.317142    18.293499  \n",
       "3    -4.874741    -2.758113    -7.167664    -3.978583   -10.543299  \n",
       "4    -5.088389    -4.363636    -5.403729     0.754533     1.107861  \n",
       "\n",
       "[5 rows x 100 columns]"
      ],
      "text/html": "<div>\n<style scoped>\n    .dataframe tbody tr th:only-of-type {\n        vertical-align: middle;\n    }\n\n    .dataframe tbody tr th {\n        vertical-align: top;\n    }\n\n    .dataframe thead th {\n        text-align: right;\n    }\n</style>\n<table border=\"1\" class=\"dataframe\">\n  <thead>\n    <tr style=\"text-align: right;\">\n      <th></th>\n      <th>SUMLEV</th>\n      <th>REGION</th>\n      <th>DIVISION</th>\n      <th>STATE</th>\n      <th>COUNTY</th>\n      <th>STNAME</th>\n      <th>CTYNAME</th>\n      <th>CENSUS2010POP</th>\n      <th>ESTIMATESBASE2010</th>\n      <th>POPESTIMATE2010</th>\n      <th>...</th>\n      <th>RDOMESTICMIG2011</th>\n      <th>RDOMESTICMIG2012</th>\n      <th>RDOMESTICMIG2013</th>\n      <th>RDOMESTICMIG2014</th>\n      <th>RDOMESTICMIG2015</th>\n      <th>RNETMIG2011</th>\n      <th>RNETMIG2012</th>\n      <th>RNETMIG2013</th>\n      <th>RNETMIG2014</th>\n      <th>RNETMIG2015</th>\n    </tr>\n  </thead>\n  <tbody>\n    <tr>\n      <th>0</th>\n      <td>40</td>\n      <td>3</td>\n      <td>6</td>\n      <td>1</td>\n      <td>0</td>\n      <td>Alabama</td>\n      <td>Alabama</td>\n      <td>4779736</td>\n      <td>4780127</td>\n      <td>4785161</td>\n      <td>...</td>\n      <td>0.002295</td>\n      <td>-0.193196</td>\n      <td>0.381066</td>\n      <td>0.582002</td>\n      <td>-0.467369</td>\n      <td>1.030015</td>\n      <td>0.826644</td>\n      <td>1.383282</td>\n      <td>1.724718</td>\n      <td>0.712594</td>\n    </tr>\n    <tr>\n      <th>1</th>\n      <td>50</td>\n      <td>3</td>\n      <td>6</td>\n      <td>1</td>\n      <td>1</td>\n      <td>Alabama</td>\n      <td>Autauga County</td>\n      <td>54571</td>\n      <td>54571</td>\n      <td>54660</td>\n      <td>...</td>\n      <td>7.242091</td>\n      <td>-2.915927</td>\n      <td>-3.012349</td>\n      <td>2.265971</td>\n      <td>-2.530799</td>\n      <td>7.606016</td>\n      <td>-2.626146</td>\n      <td>-2.722002</td>\n      <td>2.592270</td>\n      <td>-2.187333</td>\n    </tr>\n    <tr>\n      <th>2</th>\n      <td>50</td>\n      <td>3</td>\n      <td>6</td>\n      <td>1</td>\n      <td>3</td>\n      <td>Alabama</td>\n      <td>Baldwin County</td>\n      <td>182265</td>\n      <td>182265</td>\n      <td>183193</td>\n      <td>...</td>\n      <td>14.832960</td>\n      <td>17.647293</td>\n      <td>21.845705</td>\n      <td>19.243287</td>\n      <td>17.197872</td>\n      <td>15.844176</td>\n      <td>18.559627</td>\n      <td>22.727626</td>\n      <td>20.317142</td>\n      <td>18.293499</td>\n    </tr>\n    <tr>\n      <th>3</th>\n      <td>50</td>\n      <td>3</td>\n      <td>6</td>\n      <td>1</td>\n      <td>5</td>\n      <td>Alabama</td>\n      <td>Barbour County</td>\n      <td>27457</td>\n      <td>27457</td>\n      <td>27341</td>\n      <td>...</td>\n      <td>-4.728132</td>\n      <td>-2.500690</td>\n      <td>-7.056824</td>\n      <td>-3.904217</td>\n      <td>-10.543299</td>\n      <td>-4.874741</td>\n      <td>-2.758113</td>\n      <td>-7.167664</td>\n      <td>-3.978583</td>\n      <td>-10.543299</td>\n    </tr>\n    <tr>\n      <th>4</th>\n      <td>50</td>\n      <td>3</td>\n      <td>6</td>\n      <td>1</td>\n      <td>7</td>\n      <td>Alabama</td>\n      <td>Bibb County</td>\n      <td>22915</td>\n      <td>22919</td>\n      <td>22861</td>\n      <td>...</td>\n      <td>-5.527043</td>\n      <td>-5.068871</td>\n      <td>-6.201001</td>\n      <td>-0.177537</td>\n      <td>0.177258</td>\n      <td>-5.088389</td>\n      <td>-4.363636</td>\n      <td>-5.403729</td>\n      <td>0.754533</td>\n      <td>1.107861</td>\n    </tr>\n  </tbody>\n</table>\n<p>5 rows × 100 columns</p>\n</div>"
     },
     "metadata": {},
     "execution_count": 2
    }
   ],
   "source": [
    "import pandas as pd \n",
    "import numpy as np \n",
    "import timeit \n",
    "\n",
    "df = pd.read_csv(\"data/census.csv\")\n",
    "df.head(5)"
   ]
  },
  {
   "source": [
    "## Method Chaining - pandorable\n",
    "    - every method on object returns a reference to that object.\n",
    "    - Beauty > different operation into one line/statement "
   ],
   "cell_type": "markdown",
   "metadata": {}
  },
  {
   "cell_type": "code",
   "execution_count": 5,
   "metadata": {},
   "outputs": [
    {
     "output_type": "execute_result",
     "data": {
      "text/plain": [
       "                           SUMLEV  REGION  ...  RNETMIG2014  RNETMIG2015\n",
       "STNAME  CTYNAME                            ...                          \n",
       "Alabama Autauga County         50       3  ...     2.592270    -2.187333\n",
       "        Baldwin County         50       3  ...    20.317142    18.293499\n",
       "        Barbour County         50       3  ...    -3.978583   -10.543299\n",
       "        Bibb County            50       3  ...     0.754533     1.107861\n",
       "        Blount County          50       3  ...    -1.577232    -0.884411\n",
       "...                           ...     ...  ...          ...          ...\n",
       "Wyoming Sweetwater County      50       4  ...   -14.075283   -14.070195\n",
       "        Teton County           50       4  ...    16.308671     1.520747\n",
       "        Uinta County           50       4  ...   -14.740608   -12.606351\n",
       "        Washakie County        50       4  ...   -18.020168     1.441961\n",
       "        Weston County          50       4  ...     1.533635     6.935294\n",
       "\n",
       "[3142 rows x 98 columns]"
      ],
      "text/html": "<div>\n<style scoped>\n    .dataframe tbody tr th:only-of-type {\n        vertical-align: middle;\n    }\n\n    .dataframe tbody tr th {\n        vertical-align: top;\n    }\n\n    .dataframe thead th {\n        text-align: right;\n    }\n</style>\n<table border=\"1\" class=\"dataframe\">\n  <thead>\n    <tr style=\"text-align: right;\">\n      <th></th>\n      <th></th>\n      <th>SUMLEV</th>\n      <th>REGION</th>\n      <th>DIVISION</th>\n      <th>STATE</th>\n      <th>COUNTY</th>\n      <th>CENSUS2010POP</th>\n      <th>Estimates Base 2010</th>\n      <th>POPESTIMATE2010</th>\n      <th>POPESTIMATE2011</th>\n      <th>POPESTIMATE2012</th>\n      <th>POPESTIMATE2013</th>\n      <th>POPESTIMATE2014</th>\n      <th>POPESTIMATE2015</th>\n      <th>NPOPCHG_2010</th>\n      <th>NPOPCHG_2011</th>\n      <th>NPOPCHG_2012</th>\n      <th>NPOPCHG_2013</th>\n      <th>NPOPCHG_2014</th>\n      <th>NPOPCHG_2015</th>\n      <th>BIRTHS2010</th>\n      <th>BIRTHS2011</th>\n      <th>BIRTHS2012</th>\n      <th>BIRTHS2013</th>\n      <th>BIRTHS2014</th>\n      <th>BIRTHS2015</th>\n      <th>DEATHS2010</th>\n      <th>DEATHS2011</th>\n      <th>DEATHS2012</th>\n      <th>DEATHS2013</th>\n      <th>DEATHS2014</th>\n      <th>DEATHS2015</th>\n      <th>NATURALINC2010</th>\n      <th>NATURALINC2011</th>\n      <th>NATURALINC2012</th>\n      <th>NATURALINC2013</th>\n      <th>NATURALINC2014</th>\n      <th>NATURALINC2015</th>\n      <th>INTERNATIONALMIG2010</th>\n      <th>INTERNATIONALMIG2011</th>\n      <th>INTERNATIONALMIG2012</th>\n      <th>...</th>\n      <th>RESIDUAL2013</th>\n      <th>RESIDUAL2014</th>\n      <th>RESIDUAL2015</th>\n      <th>GQESTIMATESBASE2010</th>\n      <th>GQESTIMATES2010</th>\n      <th>GQESTIMATES2011</th>\n      <th>GQESTIMATES2012</th>\n      <th>GQESTIMATES2013</th>\n      <th>GQESTIMATES2014</th>\n      <th>GQESTIMATES2015</th>\n      <th>RBIRTH2011</th>\n      <th>RBIRTH2012</th>\n      <th>RBIRTH2013</th>\n      <th>RBIRTH2014</th>\n      <th>RBIRTH2015</th>\n      <th>RDEATH2011</th>\n      <th>RDEATH2012</th>\n      <th>RDEATH2013</th>\n      <th>RDEATH2014</th>\n      <th>RDEATH2015</th>\n      <th>RNATURALINC2011</th>\n      <th>RNATURALINC2012</th>\n      <th>RNATURALINC2013</th>\n      <th>RNATURALINC2014</th>\n      <th>RNATURALINC2015</th>\n      <th>RINTERNATIONALMIG2011</th>\n      <th>RINTERNATIONALMIG2012</th>\n      <th>RINTERNATIONALMIG2013</th>\n      <th>RINTERNATIONALMIG2014</th>\n      <th>RINTERNATIONALMIG2015</th>\n      <th>RDOMESTICMIG2011</th>\n      <th>RDOMESTICMIG2012</th>\n      <th>RDOMESTICMIG2013</th>\n      <th>RDOMESTICMIG2014</th>\n      <th>RDOMESTICMIG2015</th>\n      <th>RNETMIG2011</th>\n      <th>RNETMIG2012</th>\n      <th>RNETMIG2013</th>\n      <th>RNETMIG2014</th>\n      <th>RNETMIG2015</th>\n    </tr>\n    <tr>\n      <th>STNAME</th>\n      <th>CTYNAME</th>\n      <th></th>\n      <th></th>\n      <th></th>\n      <th></th>\n      <th></th>\n      <th></th>\n      <th></th>\n      <th></th>\n      <th></th>\n      <th></th>\n      <th></th>\n      <th></th>\n      <th></th>\n      <th></th>\n      <th></th>\n      <th></th>\n      <th></th>\n      <th></th>\n      <th></th>\n      <th></th>\n      <th></th>\n      <th></th>\n      <th></th>\n      <th></th>\n      <th></th>\n      <th></th>\n      <th></th>\n      <th></th>\n      <th></th>\n      <th></th>\n      <th></th>\n      <th></th>\n      <th></th>\n      <th></th>\n      <th></th>\n      <th></th>\n      <th></th>\n      <th></th>\n      <th></th>\n      <th></th>\n      <th></th>\n      <th></th>\n      <th></th>\n      <th></th>\n      <th></th>\n      <th></th>\n      <th></th>\n      <th></th>\n      <th></th>\n      <th></th>\n      <th></th>\n      <th></th>\n      <th></th>\n      <th></th>\n      <th></th>\n      <th></th>\n      <th></th>\n      <th></th>\n      <th></th>\n      <th></th>\n      <th></th>\n      <th></th>\n      <th></th>\n      <th></th>\n      <th></th>\n      <th></th>\n      <th></th>\n      <th></th>\n      <th></th>\n      <th></th>\n      <th></th>\n      <th></th>\n      <th></th>\n      <th></th>\n      <th></th>\n      <th></th>\n      <th></th>\n      <th></th>\n      <th></th>\n      <th></th>\n      <th></th>\n    </tr>\n  </thead>\n  <tbody>\n    <tr>\n      <th rowspan=\"5\" valign=\"top\">Alabama</th>\n      <th>Autauga County</th>\n      <td>50</td>\n      <td>3</td>\n      <td>6</td>\n      <td>1</td>\n      <td>1</td>\n      <td>54571</td>\n      <td>54571</td>\n      <td>54660</td>\n      <td>55253</td>\n      <td>55175</td>\n      <td>55038</td>\n      <td>55290</td>\n      <td>55347</td>\n      <td>89</td>\n      <td>593</td>\n      <td>-78</td>\n      <td>-137</td>\n      <td>252</td>\n      <td>57</td>\n      <td>151</td>\n      <td>636</td>\n      <td>615</td>\n      <td>574</td>\n      <td>623</td>\n      <td>600</td>\n      <td>152</td>\n      <td>507</td>\n      <td>558</td>\n      <td>583</td>\n      <td>504</td>\n      <td>467</td>\n      <td>-1</td>\n      <td>129</td>\n      <td>57</td>\n      <td>-9</td>\n      <td>119</td>\n      <td>133</td>\n      <td>33</td>\n      <td>20</td>\n      <td>16</td>\n      <td>...</td>\n      <td>22</td>\n      <td>-10</td>\n      <td>45</td>\n      <td>455</td>\n      <td>455</td>\n      <td>455</td>\n      <td>455</td>\n      <td>455</td>\n      <td>455</td>\n      <td>455</td>\n      <td>11.572789</td>\n      <td>11.138479</td>\n      <td>10.416194</td>\n      <td>11.293597</td>\n      <td>10.846281</td>\n      <td>9.225478</td>\n      <td>10.106133</td>\n      <td>10.579514</td>\n      <td>9.136393</td>\n      <td>8.442022</td>\n      <td>2.347311</td>\n      <td>1.032347</td>\n      <td>-0.163320</td>\n      <td>2.157204</td>\n      <td>2.404259</td>\n      <td>0.363924</td>\n      <td>0.289782</td>\n      <td>0.290347</td>\n      <td>0.326300</td>\n      <td>0.343466</td>\n      <td>7.242091</td>\n      <td>-2.915927</td>\n      <td>-3.012349</td>\n      <td>2.265971</td>\n      <td>-2.530799</td>\n      <td>7.606016</td>\n      <td>-2.626146</td>\n      <td>-2.722002</td>\n      <td>2.592270</td>\n      <td>-2.187333</td>\n    </tr>\n    <tr>\n      <th>Baldwin County</th>\n      <td>50</td>\n      <td>3</td>\n      <td>6</td>\n      <td>1</td>\n      <td>3</td>\n      <td>182265</td>\n      <td>182265</td>\n      <td>183193</td>\n      <td>186659</td>\n      <td>190396</td>\n      <td>195126</td>\n      <td>199713</td>\n      <td>203709</td>\n      <td>928</td>\n      <td>3466</td>\n      <td>3737</td>\n      <td>4730</td>\n      <td>4587</td>\n      <td>3996</td>\n      <td>517</td>\n      <td>2187</td>\n      <td>2092</td>\n      <td>2160</td>\n      <td>2186</td>\n      <td>2240</td>\n      <td>532</td>\n      <td>1825</td>\n      <td>1879</td>\n      <td>1902</td>\n      <td>2044</td>\n      <td>1992</td>\n      <td>-15</td>\n      <td>362</td>\n      <td>213</td>\n      <td>258</td>\n      <td>142</td>\n      <td>248</td>\n      <td>69</td>\n      <td>187</td>\n      <td>172</td>\n      <td>...</td>\n      <td>91</td>\n      <td>434</td>\n      <td>58</td>\n      <td>2307</td>\n      <td>2307</td>\n      <td>2307</td>\n      <td>2249</td>\n      <td>2304</td>\n      <td>2308</td>\n      <td>2309</td>\n      <td>11.826352</td>\n      <td>11.096524</td>\n      <td>11.205586</td>\n      <td>11.072868</td>\n      <td>11.104997</td>\n      <td>9.868812</td>\n      <td>9.966716</td>\n      <td>9.867141</td>\n      <td>10.353587</td>\n      <td>9.875515</td>\n      <td>1.957540</td>\n      <td>1.129809</td>\n      <td>1.338445</td>\n      <td>0.719281</td>\n      <td>1.229482</td>\n      <td>1.011215</td>\n      <td>0.912334</td>\n      <td>0.881921</td>\n      <td>1.073855</td>\n      <td>1.095627</td>\n      <td>14.832960</td>\n      <td>17.647293</td>\n      <td>21.845705</td>\n      <td>19.243287</td>\n      <td>17.197872</td>\n      <td>15.844176</td>\n      <td>18.559627</td>\n      <td>22.727626</td>\n      <td>20.317142</td>\n      <td>18.293499</td>\n    </tr>\n    <tr>\n      <th>Barbour County</th>\n      <td>50</td>\n      <td>3</td>\n      <td>6</td>\n      <td>1</td>\n      <td>5</td>\n      <td>27457</td>\n      <td>27457</td>\n      <td>27341</td>\n      <td>27226</td>\n      <td>27159</td>\n      <td>26973</td>\n      <td>26815</td>\n      <td>26489</td>\n      <td>-116</td>\n      <td>-115</td>\n      <td>-67</td>\n      <td>-186</td>\n      <td>-158</td>\n      <td>-326</td>\n      <td>70</td>\n      <td>335</td>\n      <td>300</td>\n      <td>283</td>\n      <td>260</td>\n      <td>269</td>\n      <td>128</td>\n      <td>319</td>\n      <td>291</td>\n      <td>294</td>\n      <td>310</td>\n      <td>309</td>\n      <td>-58</td>\n      <td>16</td>\n      <td>9</td>\n      <td>-11</td>\n      <td>-50</td>\n      <td>-40</td>\n      <td>2</td>\n      <td>-4</td>\n      <td>-7</td>\n      <td>...</td>\n      <td>19</td>\n      <td>-1</td>\n      <td>-5</td>\n      <td>3193</td>\n      <td>3193</td>\n      <td>3382</td>\n      <td>3388</td>\n      <td>3389</td>\n      <td>3353</td>\n      <td>3352</td>\n      <td>12.278483</td>\n      <td>11.032454</td>\n      <td>10.455923</td>\n      <td>9.667584</td>\n      <td>10.093051</td>\n      <td>11.692048</td>\n      <td>10.701480</td>\n      <td>10.862337</td>\n      <td>11.526735</td>\n      <td>11.593877</td>\n      <td>0.586435</td>\n      <td>0.330974</td>\n      <td>-0.406414</td>\n      <td>-1.859151</td>\n      <td>-1.500825</td>\n      <td>-0.146609</td>\n      <td>-0.257424</td>\n      <td>-0.110840</td>\n      <td>-0.074366</td>\n      <td>0.000000</td>\n      <td>-4.728132</td>\n      <td>-2.500690</td>\n      <td>-7.056824</td>\n      <td>-3.904217</td>\n      <td>-10.543299</td>\n      <td>-4.874741</td>\n      <td>-2.758113</td>\n      <td>-7.167664</td>\n      <td>-3.978583</td>\n      <td>-10.543299</td>\n    </tr>\n    <tr>\n      <th>Bibb County</th>\n      <td>50</td>\n      <td>3</td>\n      <td>6</td>\n      <td>1</td>\n      <td>7</td>\n      <td>22915</td>\n      <td>22919</td>\n      <td>22861</td>\n      <td>22733</td>\n      <td>22642</td>\n      <td>22512</td>\n      <td>22549</td>\n      <td>22583</td>\n      <td>-58</td>\n      <td>-128</td>\n      <td>-91</td>\n      <td>-130</td>\n      <td>37</td>\n      <td>34</td>\n      <td>44</td>\n      <td>266</td>\n      <td>245</td>\n      <td>259</td>\n      <td>247</td>\n      <td>253</td>\n      <td>34</td>\n      <td>278</td>\n      <td>237</td>\n      <td>281</td>\n      <td>211</td>\n      <td>223</td>\n      <td>10</td>\n      <td>-12</td>\n      <td>8</td>\n      <td>-22</td>\n      <td>36</td>\n      <td>30</td>\n      <td>2</td>\n      <td>10</td>\n      <td>16</td>\n      <td>...</td>\n      <td>14</td>\n      <td>-16</td>\n      <td>-21</td>\n      <td>2224</td>\n      <td>2224</td>\n      <td>2224</td>\n      <td>2224</td>\n      <td>2224</td>\n      <td>2233</td>\n      <td>2236</td>\n      <td>11.668202</td>\n      <td>10.798898</td>\n      <td>11.471852</td>\n      <td>10.962917</td>\n      <td>11.211557</td>\n      <td>12.194587</td>\n      <td>10.446281</td>\n      <td>12.446295</td>\n      <td>9.365083</td>\n      <td>9.882124</td>\n      <td>-0.526385</td>\n      <td>0.352617</td>\n      <td>-0.974443</td>\n      <td>1.597834</td>\n      <td>1.329434</td>\n      <td>0.438654</td>\n      <td>0.705234</td>\n      <td>0.797272</td>\n      <td>0.932070</td>\n      <td>0.930604</td>\n      <td>-5.527043</td>\n      <td>-5.068871</td>\n      <td>-6.201001</td>\n      <td>-0.177537</td>\n      <td>0.177258</td>\n      <td>-5.088389</td>\n      <td>-4.363636</td>\n      <td>-5.403729</td>\n      <td>0.754533</td>\n      <td>1.107861</td>\n    </tr>\n    <tr>\n      <th>Blount County</th>\n      <td>50</td>\n      <td>3</td>\n      <td>6</td>\n      <td>1</td>\n      <td>9</td>\n      <td>57322</td>\n      <td>57322</td>\n      <td>57373</td>\n      <td>57711</td>\n      <td>57776</td>\n      <td>57734</td>\n      <td>57658</td>\n      <td>57673</td>\n      <td>51</td>\n      <td>338</td>\n      <td>65</td>\n      <td>-42</td>\n      <td>-76</td>\n      <td>15</td>\n      <td>183</td>\n      <td>744</td>\n      <td>710</td>\n      <td>646</td>\n      <td>618</td>\n      <td>603</td>\n      <td>133</td>\n      <td>570</td>\n      <td>592</td>\n      <td>585</td>\n      <td>589</td>\n      <td>590</td>\n      <td>50</td>\n      <td>174</td>\n      <td>118</td>\n      <td>61</td>\n      <td>29</td>\n      <td>13</td>\n      <td>5</td>\n      <td>3</td>\n      <td>19</td>\n      <td>...</td>\n      <td>-22</td>\n      <td>-14</td>\n      <td>53</td>\n      <td>489</td>\n      <td>489</td>\n      <td>489</td>\n      <td>489</td>\n      <td>489</td>\n      <td>489</td>\n      <td>489</td>\n      <td>12.929686</td>\n      <td>12.295756</td>\n      <td>11.185179</td>\n      <td>10.711314</td>\n      <td>10.456859</td>\n      <td>9.905808</td>\n      <td>10.252236</td>\n      <td>10.128993</td>\n      <td>10.208680</td>\n      <td>10.231421</td>\n      <td>3.023878</td>\n      <td>2.043520</td>\n      <td>1.056186</td>\n      <td>0.502634</td>\n      <td>0.225438</td>\n      <td>0.052136</td>\n      <td>0.329041</td>\n      <td>0.346290</td>\n      <td>0.485302</td>\n      <td>0.485559</td>\n      <td>1.807375</td>\n      <td>-1.177622</td>\n      <td>-1.748766</td>\n      <td>-2.062535</td>\n      <td>-1.369970</td>\n      <td>1.859511</td>\n      <td>-0.848580</td>\n      <td>-1.402476</td>\n      <td>-1.577232</td>\n      <td>-0.884411</td>\n    </tr>\n    <tr>\n      <th>...</th>\n      <th>...</th>\n      <td>...</td>\n      <td>...</td>\n      <td>...</td>\n      <td>...</td>\n      <td>...</td>\n      <td>...</td>\n      <td>...</td>\n      <td>...</td>\n      <td>...</td>\n      <td>...</td>\n      <td>...</td>\n      <td>...</td>\n      <td>...</td>\n      <td>...</td>\n      <td>...</td>\n      <td>...</td>\n      <td>...</td>\n      <td>...</td>\n      <td>...</td>\n      <td>...</td>\n      <td>...</td>\n      <td>...</td>\n      <td>...</td>\n      <td>...</td>\n      <td>...</td>\n      <td>...</td>\n      <td>...</td>\n      <td>...</td>\n      <td>...</td>\n      <td>...</td>\n      <td>...</td>\n      <td>...</td>\n      <td>...</td>\n      <td>...</td>\n      <td>...</td>\n      <td>...</td>\n      <td>...</td>\n      <td>...</td>\n      <td>...</td>\n      <td>...</td>\n      <td>...</td>\n      <td>...</td>\n      <td>...</td>\n      <td>...</td>\n      <td>...</td>\n      <td>...</td>\n      <td>...</td>\n      <td>...</td>\n      <td>...</td>\n      <td>...</td>\n      <td>...</td>\n      <td>...</td>\n      <td>...</td>\n      <td>...</td>\n      <td>...</td>\n      <td>...</td>\n      <td>...</td>\n      <td>...</td>\n      <td>...</td>\n      <td>...</td>\n      <td>...</td>\n      <td>...</td>\n      <td>...</td>\n      <td>...</td>\n      <td>...</td>\n      <td>...</td>\n      <td>...</td>\n      <td>...</td>\n      <td>...</td>\n      <td>...</td>\n      <td>...</td>\n      <td>...</td>\n      <td>...</td>\n      <td>...</td>\n      <td>...</td>\n      <td>...</td>\n      <td>...</td>\n      <td>...</td>\n      <td>...</td>\n      <td>...</td>\n      <td>...</td>\n    </tr>\n    <tr>\n      <th rowspan=\"5\" valign=\"top\">Wyoming</th>\n      <th>Sweetwater County</th>\n      <td>50</td>\n      <td>4</td>\n      <td>8</td>\n      <td>56</td>\n      <td>37</td>\n      <td>43806</td>\n      <td>43806</td>\n      <td>43593</td>\n      <td>44041</td>\n      <td>45104</td>\n      <td>45162</td>\n      <td>44925</td>\n      <td>44626</td>\n      <td>-213</td>\n      <td>448</td>\n      <td>1063</td>\n      <td>58</td>\n      <td>-237</td>\n      <td>-299</td>\n      <td>167</td>\n      <td>640</td>\n      <td>595</td>\n      <td>657</td>\n      <td>629</td>\n      <td>620</td>\n      <td>76</td>\n      <td>251</td>\n      <td>273</td>\n      <td>296</td>\n      <td>246</td>\n      <td>262</td>\n      <td>91</td>\n      <td>389</td>\n      <td>322</td>\n      <td>361</td>\n      <td>383</td>\n      <td>358</td>\n      <td>5</td>\n      <td>8</td>\n      <td>0</td>\n      <td>...</td>\n      <td>-64</td>\n      <td>14</td>\n      <td>-27</td>\n      <td>679</td>\n      <td>679</td>\n      <td>694</td>\n      <td>697</td>\n      <td>731</td>\n      <td>671</td>\n      <td>672</td>\n      <td>14.606203</td>\n      <td>13.349038</td>\n      <td>14.556976</td>\n      <td>13.964279</td>\n      <td>13.846858</td>\n      <td>5.728370</td>\n      <td>6.124853</td>\n      <td>6.558394</td>\n      <td>5.461387</td>\n      <td>5.851414</td>\n      <td>8.877833</td>\n      <td>7.224185</td>\n      <td>7.998582</td>\n      <td>8.502892</td>\n      <td>7.995444</td>\n      <td>0.182578</td>\n      <td>0.000000</td>\n      <td>0.044313</td>\n      <td>0.177606</td>\n      <td>0.178669</td>\n      <td>1.072643</td>\n      <td>16.243199</td>\n      <td>-5.339774</td>\n      <td>-14.252889</td>\n      <td>-14.248864</td>\n      <td>1.255221</td>\n      <td>16.243199</td>\n      <td>-5.295460</td>\n      <td>-14.075283</td>\n      <td>-14.070195</td>\n    </tr>\n    <tr>\n      <th>Teton County</th>\n      <td>50</td>\n      <td>4</td>\n      <td>8</td>\n      <td>56</td>\n      <td>39</td>\n      <td>21294</td>\n      <td>21294</td>\n      <td>21297</td>\n      <td>21482</td>\n      <td>21697</td>\n      <td>22347</td>\n      <td>22905</td>\n      <td>23125</td>\n      <td>3</td>\n      <td>185</td>\n      <td>215</td>\n      <td>650</td>\n      <td>558</td>\n      <td>220</td>\n      <td>76</td>\n      <td>259</td>\n      <td>230</td>\n      <td>261</td>\n      <td>249</td>\n      <td>269</td>\n      <td>10</td>\n      <td>87</td>\n      <td>61</td>\n      <td>97</td>\n      <td>68</td>\n      <td>76</td>\n      <td>66</td>\n      <td>172</td>\n      <td>169</td>\n      <td>164</td>\n      <td>181</td>\n      <td>193</td>\n      <td>5</td>\n      <td>48</td>\n      <td>31</td>\n      <td>...</td>\n      <td>20</td>\n      <td>8</td>\n      <td>-8</td>\n      <td>271</td>\n      <td>271</td>\n      <td>271</td>\n      <td>270</td>\n      <td>268</td>\n      <td>268</td>\n      <td>267</td>\n      <td>12.108745</td>\n      <td>10.653327</td>\n      <td>11.851785</td>\n      <td>11.005038</td>\n      <td>11.688030</td>\n      <td>4.067416</td>\n      <td>2.825448</td>\n      <td>4.404686</td>\n      <td>3.005392</td>\n      <td>3.302194</td>\n      <td>8.041329</td>\n      <td>7.827879</td>\n      <td>7.447098</td>\n      <td>7.999646</td>\n      <td>8.385835</td>\n      <td>2.244092</td>\n      <td>1.435883</td>\n      <td>1.634729</td>\n      <td>2.165650</td>\n      <td>2.085596</td>\n      <td>-1.589565</td>\n      <td>0.972695</td>\n      <td>19.525929</td>\n      <td>14.143021</td>\n      <td>-0.564849</td>\n      <td>0.654527</td>\n      <td>2.408578</td>\n      <td>21.160658</td>\n      <td>16.308671</td>\n      <td>1.520747</td>\n    </tr>\n    <tr>\n      <th>Uinta County</th>\n      <td>50</td>\n      <td>4</td>\n      <td>8</td>\n      <td>56</td>\n      <td>41</td>\n      <td>21118</td>\n      <td>21118</td>\n      <td>21102</td>\n      <td>20912</td>\n      <td>20989</td>\n      <td>21022</td>\n      <td>20903</td>\n      <td>20822</td>\n      <td>-16</td>\n      <td>-190</td>\n      <td>77</td>\n      <td>33</td>\n      <td>-119</td>\n      <td>-81</td>\n      <td>73</td>\n      <td>324</td>\n      <td>311</td>\n      <td>316</td>\n      <td>316</td>\n      <td>316</td>\n      <td>49</td>\n      <td>139</td>\n      <td>115</td>\n      <td>136</td>\n      <td>130</td>\n      <td>137</td>\n      <td>24</td>\n      <td>185</td>\n      <td>196</td>\n      <td>180</td>\n      <td>186</td>\n      <td>179</td>\n      <td>2</td>\n      <td>-8</td>\n      <td>-13</td>\n      <td>...</td>\n      <td>11</td>\n      <td>4</td>\n      <td>3</td>\n      <td>270</td>\n      <td>270</td>\n      <td>245</td>\n      <td>236</td>\n      <td>254</td>\n      <td>254</td>\n      <td>254</td>\n      <td>15.423430</td>\n      <td>14.844514</td>\n      <td>15.043679</td>\n      <td>15.074538</td>\n      <td>15.146794</td>\n      <td>6.616842</td>\n      <td>5.489129</td>\n      <td>6.474495</td>\n      <td>6.201550</td>\n      <td>6.566806</td>\n      <td>8.806588</td>\n      <td>9.355385</td>\n      <td>8.569184</td>\n      <td>8.872987</td>\n      <td>8.579988</td>\n      <td>-0.380825</td>\n      <td>-0.620510</td>\n      <td>-0.618886</td>\n      <td>-0.524747</td>\n      <td>-0.479329</td>\n      <td>-17.755986</td>\n      <td>-4.916350</td>\n      <td>-6.902954</td>\n      <td>-14.215862</td>\n      <td>-12.127022</td>\n      <td>-18.136812</td>\n      <td>-5.536861</td>\n      <td>-7.521840</td>\n      <td>-14.740608</td>\n      <td>-12.606351</td>\n    </tr>\n    <tr>\n      <th>Washakie County</th>\n      <td>50</td>\n      <td>4</td>\n      <td>8</td>\n      <td>56</td>\n      <td>43</td>\n      <td>8533</td>\n      <td>8533</td>\n      <td>8545</td>\n      <td>8469</td>\n      <td>8443</td>\n      <td>8443</td>\n      <td>8316</td>\n      <td>8328</td>\n      <td>12</td>\n      <td>-76</td>\n      <td>-26</td>\n      <td>0</td>\n      <td>-127</td>\n      <td>12</td>\n      <td>26</td>\n      <td>108</td>\n      <td>90</td>\n      <td>95</td>\n      <td>96</td>\n      <td>90</td>\n      <td>34</td>\n      <td>79</td>\n      <td>105</td>\n      <td>77</td>\n      <td>70</td>\n      <td>79</td>\n      <td>-8</td>\n      <td>29</td>\n      <td>-15</td>\n      <td>18</td>\n      <td>26</td>\n      <td>11</td>\n      <td>1</td>\n      <td>-3</td>\n      <td>-3</td>\n      <td>...</td>\n      <td>1</td>\n      <td>-2</td>\n      <td>-11</td>\n      <td>140</td>\n      <td>140</td>\n      <td>140</td>\n      <td>140</td>\n      <td>140</td>\n      <td>140</td>\n      <td>140</td>\n      <td>12.695427</td>\n      <td>10.643330</td>\n      <td>11.251925</td>\n      <td>11.456531</td>\n      <td>10.814708</td>\n      <td>9.286470</td>\n      <td>12.417219</td>\n      <td>9.119981</td>\n      <td>8.353720</td>\n      <td>9.492910</td>\n      <td>3.408957</td>\n      <td>-1.773888</td>\n      <td>2.131944</td>\n      <td>3.102810</td>\n      <td>1.321798</td>\n      <td>-0.352651</td>\n      <td>-0.354778</td>\n      <td>-0.236883</td>\n      <td>-0.238678</td>\n      <td>-0.240327</td>\n      <td>-11.637475</td>\n      <td>-0.827815</td>\n      <td>-2.013502</td>\n      <td>-17.781491</td>\n      <td>1.682288</td>\n      <td>-11.990126</td>\n      <td>-1.182592</td>\n      <td>-2.250385</td>\n      <td>-18.020168</td>\n      <td>1.441961</td>\n    </tr>\n    <tr>\n      <th>Weston County</th>\n      <td>50</td>\n      <td>4</td>\n      <td>8</td>\n      <td>56</td>\n      <td>45</td>\n      <td>7208</td>\n      <td>7208</td>\n      <td>7181</td>\n      <td>7114</td>\n      <td>7065</td>\n      <td>7160</td>\n      <td>7185</td>\n      <td>7234</td>\n      <td>-27</td>\n      <td>-67</td>\n      <td>-49</td>\n      <td>95</td>\n      <td>25</td>\n      <td>49</td>\n      <td>26</td>\n      <td>81</td>\n      <td>74</td>\n      <td>93</td>\n      <td>77</td>\n      <td>79</td>\n      <td>9</td>\n      <td>71</td>\n      <td>67</td>\n      <td>77</td>\n      <td>70</td>\n      <td>77</td>\n      <td>17</td>\n      <td>10</td>\n      <td>7</td>\n      <td>16</td>\n      <td>7</td>\n      <td>2</td>\n      <td>1</td>\n      <td>-2</td>\n      <td>0</td>\n      <td>...</td>\n      <td>-9</td>\n      <td>7</td>\n      <td>-3</td>\n      <td>313</td>\n      <td>313</td>\n      <td>313</td>\n      <td>313</td>\n      <td>323</td>\n      <td>318</td>\n      <td>317</td>\n      <td>11.332634</td>\n      <td>10.437972</td>\n      <td>13.075571</td>\n      <td>10.735448</td>\n      <td>10.957764</td>\n      <td>9.933543</td>\n      <td>9.450596</td>\n      <td>10.826011</td>\n      <td>9.759498</td>\n      <td>10.680352</td>\n      <td>1.399091</td>\n      <td>0.987376</td>\n      <td>2.249561</td>\n      <td>0.975950</td>\n      <td>0.277412</td>\n      <td>-0.279818</td>\n      <td>0.000000</td>\n      <td>0.000000</td>\n      <td>0.000000</td>\n      <td>0.000000</td>\n      <td>-11.752361</td>\n      <td>-8.040059</td>\n      <td>12.372583</td>\n      <td>1.533635</td>\n      <td>6.935294</td>\n      <td>-12.032179</td>\n      <td>-8.040059</td>\n      <td>12.372583</td>\n      <td>1.533635</td>\n      <td>6.935294</td>\n    </tr>\n  </tbody>\n</table>\n<p>3142 rows × 98 columns</p>\n</div>"
     },
     "metadata": {},
     "execution_count": 5
    }
   ],
   "source": [
    "new_df = df[df['SUMLEV']==50]\n",
    "new_df.set_index(['STNAME', 'CTYNAME']).rename(columns={'ESTIMATESBASE2010': 'Estimates Base 2010'})"
   ]
  },
  {
   "cell_type": "code",
   "execution_count": 11,
   "metadata": {},
   "outputs": [],
   "source": [
    "# Comparison \n",
    "def their_approach():\n",
    "    global df \n",
    "    return df.where(df['SUMLEV']==50).dropna().set_index('STNAME','CTYNAME').rename(columns={\"POPESTIMATE2010\":\"Population Estimate 2010\"})\n",
    "df = pd.read_csv(\"datasets/census.csv\")\n",
    "t1 = timeit.timeit(their_approach,number=10)"
   ]
  },
  {
   "cell_type": "code",
   "execution_count": 15,
   "metadata": {},
   "outputs": [
    {
     "output_type": "stream",
     "name": "stdout",
     "text": [
      "0.18882739999980913\n"
     ]
    }
   ],
   "source": [
    "def my_approach():\n",
    "    global df\n",
    "    new_df = df[df['SUMLEV']==50]\n",
    "    new_df.set_index(['STNAME', 'CTYNAME'], inplace=True)\n",
    "    return new_df.rename(columns={'ESTIMATESBASE2010': 'Estimates Base 2010'})\n",
    "df = pd.read_csv(\"datasets/census.csv\")\n",
    "t2 = timeit.timeit(my_approach,number=10) \n",
    "print(t2)"
   ]
  },
  {
   "cell_type": "code",
   "execution_count": 14,
   "metadata": {},
   "outputs": [
    {
     "output_type": "stream",
     "name": "stdout",
     "text": [
      "0.1642113000000336\n"
     ]
    }
   ],
   "source": [
    "diff = t1 - t2\n",
    "print(diff)"
   ]
  },
  {
   "cell_type": "code",
   "execution_count": 3,
   "metadata": {},
   "outputs": [],
   "source": [
    "def min_max(row):\n",
    "    data = row[[\n",
    "        'POPESTIMATE2010',\n",
    "        'POPESTIMATE2011',\n",
    "        'POPESTIMATE2012',\n",
    "        'POPESTIMATE2013',\n",
    "        'POPESTIMATE2014',\n",
    "        'POPESTIMATE2015']]\n",
    "    return pd.Series({'min':np.min(data), 'max': np.max(data)})"
   ]
  },
  {
   "cell_type": "code",
   "execution_count": 6,
   "metadata": {},
   "outputs": [
    {
     "output_type": "execute_result",
     "data": {
      "text/plain": [
       "       min      max\n",
       "0  4785161  4858979\n",
       "1    54660    55347\n",
       "2   183193   203709\n",
       "3    26489    27341\n",
       "4    22512    22861"
      ],
      "text/html": "<div>\n<style scoped>\n    .dataframe tbody tr th:only-of-type {\n        vertical-align: middle;\n    }\n\n    .dataframe tbody tr th {\n        vertical-align: top;\n    }\n\n    .dataframe thead th {\n        text-align: right;\n    }\n</style>\n<table border=\"1\" class=\"dataframe\">\n  <thead>\n    <tr style=\"text-align: right;\">\n      <th></th>\n      <th>min</th>\n      <th>max</th>\n    </tr>\n  </thead>\n  <tbody>\n    <tr>\n      <th>0</th>\n      <td>4785161</td>\n      <td>4858979</td>\n    </tr>\n    <tr>\n      <th>1</th>\n      <td>54660</td>\n      <td>55347</td>\n    </tr>\n    <tr>\n      <th>2</th>\n      <td>183193</td>\n      <td>203709</td>\n    </tr>\n    <tr>\n      <th>3</th>\n      <td>26489</td>\n      <td>27341</td>\n    </tr>\n    <tr>\n      <th>4</th>\n      <td>22512</td>\n      <td>22861</td>\n    </tr>\n  </tbody>\n</table>\n</div>"
     },
     "metadata": {},
     "execution_count": 6
    }
   ],
   "source": [
    "df.apply(min_max, axis='columns').head()"
   ]
  },
  {
   "cell_type": "code",
   "execution_count": 8,
   "metadata": {},
   "outputs": [
    {
     "output_type": "execute_result",
     "data": {
      "text/plain": [
       "0    4858979\n",
       "1      55347\n",
       "2     203709\n",
       "3      27341\n",
       "4      22861\n",
       "dtype: int64"
      ]
     },
     "metadata": {},
     "execution_count": 8
    }
   ],
   "source": [
    "rows = ['POPESTIMATE2010', 'POPESTIMATE2011', 'POPESTIMATE2012', 'POPESTIMATE2013','POPESTIMATE2014', \n",
    "        'POPESTIMATE2015']\n",
    "df.apply(lambda x: np.max(x[rows]),axis=1).head()"
   ]
  },
  {
   "cell_type": "code",
   "execution_count": 9,
   "metadata": {},
   "outputs": [],
   "source": [
    "def get_state_region(x):\n",
    "    northeast = ['Connecticut', 'Maine', 'Massachusetts', 'New Hampshire', \n",
    "                 'Rhode Island','Vermont','New York','New Jersey','Pennsylvania']\n",
    "    midwest = ['Illinois','Indiana','Michigan','Ohio','Wisconsin','Iowa',\n",
    "               'Kansas','Minnesota','Missouri','Nebraska','North Dakota',\n",
    "               'South Dakota']\n",
    "    south = ['Delaware','Florida','Georgia','Maryland','North Carolina',\n",
    "             'South Carolina','Virginia','District of Columbia','West Virginia',\n",
    "             'Alabama','Kentucky','Mississippi','Tennessee','Arkansas',\n",
    "             'Louisiana','Oklahoma','Texas']\n",
    "    west = ['Arizona','Colorado','Idaho','Montana','Nevada','New Mexico','Utah',\n",
    "            'Wyoming','Alaska','California','Hawaii','Oregon','Washington']\n",
    "    \n",
    "    if x in northeast:\n",
    "        return \"Northeast\"\n",
    "    elif x in midwest:\n",
    "        return \"Midwest\"\n",
    "    elif x in south:\n",
    "        return \"South\"\n",
    "    else:\n",
    "        return \"West\""
   ]
  },
  {
   "cell_type": "code",
   "execution_count": 12,
   "metadata": {},
   "outputs": [],
   "source": [
    "df['state_region'] = df['STNAME'].apply(lambda x: get_state_region(x))"
   ]
  },
  {
   "cell_type": "code",
   "execution_count": 13,
   "metadata": {},
   "outputs": [
    {
     "output_type": "execute_result",
     "data": {
      "text/plain": [
       "  state_region   STNAME\n",
       "0        South  Alabama\n",
       "1        South  Alabama\n",
       "2        South  Alabama\n",
       "3        South  Alabama\n",
       "4        South  Alabama"
      ],
      "text/html": "<div>\n<style scoped>\n    .dataframe tbody tr th:only-of-type {\n        vertical-align: middle;\n    }\n\n    .dataframe tbody tr th {\n        vertical-align: top;\n    }\n\n    .dataframe thead th {\n        text-align: right;\n    }\n</style>\n<table border=\"1\" class=\"dataframe\">\n  <thead>\n    <tr style=\"text-align: right;\">\n      <th></th>\n      <th>state_region</th>\n      <th>STNAME</th>\n    </tr>\n  </thead>\n  <tbody>\n    <tr>\n      <th>0</th>\n      <td>South</td>\n      <td>Alabama</td>\n    </tr>\n    <tr>\n      <th>1</th>\n      <td>South</td>\n      <td>Alabama</td>\n    </tr>\n    <tr>\n      <th>2</th>\n      <td>South</td>\n      <td>Alabama</td>\n    </tr>\n    <tr>\n      <th>3</th>\n      <td>South</td>\n      <td>Alabama</td>\n    </tr>\n    <tr>\n      <th>4</th>\n      <td>South</td>\n      <td>Alabama</td>\n    </tr>\n  </tbody>\n</table>\n</div>"
     },
     "metadata": {},
     "execution_count": 13
    }
   ],
   "source": [
    "df[['state_region','STNAME']].head()"
   ]
  },
  {
   "cell_type": "code",
   "execution_count": 14,
   "metadata": {},
   "outputs": [
    {
     "output_type": "display_data",
     "data": {
      "text/plain": "<IPython.core.display.HTML object>",
      "text/html": "<svg width=\"800\" height=\"300\">\n  <circle cx=\"150\" cy=\"180\" r=\"80\" fill-opacity=\"0.2\" stroke=\"black\" stroke-width=\"2\" fill=\"blue\" />\n  <circle cx=\"200\" cy=\"100\" r=\"80\" fill-opacity=\"0.2\" stroke=\"black\" stroke-width=\"2\" fill=\"red\" />\n  <circle cx=\"100\" cy=\"100\" r=\"80\" fill-opacity=\"0.2\" stroke=\"black\" stroke-width=\"2\" fill=\"green\" />\n  <line x1=\"150\" y1=\"125\" x2=\"300\" y2=\"150\" stroke=\"black\" stroke-width=\"2\" fill=\"black\" stroke-dasharray=\"5,3\"/>\n  <text x=\"300\" y=\"165\" font-family=\"Verdana\" font-size=\"35\">Everything but this!</text>\n</svg>\n"
     },
     "metadata": {}
    }
   ],
   "source": [
    "%%HTML\n",
    "<svg width=\"800\" height=\"300\">\n",
    "  <circle cx=\"150\" cy=\"180\" r=\"80\" fill-opacity=\"0.2\" stroke=\"black\" stroke-width=\"2\" fill=\"blue\" />\n",
    "  <circle cx=\"200\" cy=\"100\" r=\"80\" fill-opacity=\"0.2\" stroke=\"black\" stroke-width=\"2\" fill=\"red\" />\n",
    "  <circle cx=\"100\" cy=\"100\" r=\"80\" fill-opacity=\"0.2\" stroke=\"black\" stroke-width=\"2\" fill=\"green\" />\n",
    "  <line x1=\"150\" y1=\"125\" x2=\"300\" y2=\"150\" stroke=\"black\" stroke-width=\"2\" fill=\"black\" stroke-dasharray=\"5,3\"/>\n",
    "  <text x=\"300\" y=\"165\" font-family=\"Verdana\" font-size=\"35\">Everything but this!</text>\n",
    "</svg>"
   ]
  },
  {
   "cell_type": "code",
   "execution_count": null,
   "metadata": {},
   "outputs": [],
   "source": []
  }
 ]
}